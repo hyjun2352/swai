{
 "cells": [
  {
   "cell_type": "code",
   "execution_count": 5,
   "metadata": {},
   "outputs": [
    {
     "data": {
      "text/plain": [
       "['문제', '해설']"
      ]
     },
     "execution_count": 5,
     "metadata": {},
     "output_type": "execute_result"
    }
   ],
   "source": [
    "import pandas as pd\n",
    "\n",
    "# Load the Excel file\n",
    "file_path = 'yonsei_new.xlsx'\n",
    "excel_data = pd.ExcelFile(file_path)\n",
    "\n",
    "# Display sheet names to understand the structure\n",
    "sheet_names = excel_data.sheet_names\n",
    "sheet_names\n"
   ]
  },
  {
   "cell_type": "code",
   "execution_count": 6,
   "metadata": {},
   "outputs": [],
   "source": [
    "# Load data from each sheet\n",
    "data_1 = pd.read_excel(file_path, sheet_name='문제')\n",
    "data_2 = pd.read_excel(file_path, sheet_name='해설')\n",
    "\n",
    "# Convert the data to JSON format\n",
    "data_1_json = data_1.to_json(orient='records', force_ascii=False)\n",
    "data_2_json = data_2.to_json(orient='records', force_ascii=False)\n",
    "\n",
    "# Replace \"\\n\" with \"<br>\"\n",
    "data_1_json = data_1_json.replace(\"\\n\", \"<br>\")\n",
    "data_2_json = data_2_json.replace(\"\\n\", \"<br>\")\n",
    "\n",
    "import json\n",
    "\n",
    "# Load JSON strings into Python dictionaries for pretty printing\n",
    "data_문제_dict = json.loads(data_1_json)\n",
    "data_해설_dict = json.loads(data_2_json)"
   ]
  },
  {
   "cell_type": "code",
   "execution_count": 7,
   "metadata": {},
   "outputs": [
    {
     "data": {
      "text/plain": [
       "'yonsei_data_all_p.json'"
      ]
     },
     "execution_count": 7,
     "metadata": {},
     "output_type": "execute_result"
    }
   ],
   "source": [
    "json_file_path = 'yonsei_data_all_p.json'\n",
    "with open(json_file_path, 'w', encoding='utf-8') as f:\n",
    "    json.dump(data_문제_dict, f, ensure_ascii=False, indent=4)\n",
    "\n",
    "json_file_path"
   ]
  },
  {
   "cell_type": "code",
   "execution_count": 8,
   "metadata": {},
   "outputs": [
    {
     "data": {
      "text/plain": [
       "'yonsei_data_all_a.json'"
      ]
     },
     "execution_count": 8,
     "metadata": {},
     "output_type": "execute_result"
    }
   ],
   "source": [
    "json_file_path = 'yonsei_data_all_a.json'\n",
    "with open(json_file_path, 'w', encoding='utf-8') as f:\n",
    "    json.dump(data_해설_dict, f, ensure_ascii=False, indent=4)\n",
    "\n",
    "json_file_path"
   ]
  },
  {
   "cell_type": "code",
   "execution_count": 11,
   "metadata": {},
   "outputs": [],
   "source": [
    "with open('yonsei_data_all_p.json', 'r', encoding='utf-8') as file:\n",
    "    data = json.load(file)\n",
    "\n",
    "# 변환 함수 정의\n",
    "def replace_newlines(obj):\n",
    "    if isinstance(obj, str):\n",
    "        return obj.replace('\\n', '<br>')\n",
    "    elif isinstance(obj, list):\n",
    "        return [replace_newlines(item) for item in obj]\n",
    "    elif isinstance(obj, dict):\n",
    "        return {key: replace_newlines(value) for key, value in obj.items()}\n",
    "    return obj\n",
    "\n",
    "# 변환 작업 수행\n",
    "new_data = replace_newlines(data)\n",
    "\n",
    "# json 파일로 저장\n",
    "with open('yonsei_data_all_p.json', 'w', encoding='utf-8') as file:\n",
    "    json.dump(new_data, file, ensure_ascii=False, indent=4)"
   ]
  },
  {
   "cell_type": "code",
   "execution_count": 12,
   "metadata": {},
   "outputs": [],
   "source": [
    "key_map = {\n",
    "    \"제시문 (가)\": \"text_a\",\n",
    "    \"제시문 (나)\": \"text_b\",\n",
    "    \"제시문 (다)\": \"text_c\",\n",
    "    \"제시문 (라)\": \"text_d\",\n",
    "    \"Unnamed: 0\": \"id\",\n",
    "    \"<표>\": \"table\",\n",
    "    \"<그림>\": \"figure\",\n",
    "    \"[지문 A]\": \"additional_text_a\",\n",
    "    \"문제1-1\": \"question_1_1\",\n",
    "    \"문제1-2\": \"question_1_2\",\n",
    "    \"문제2-1\": \"question_2_1\",\n",
    "    \"문제2-2\": \"question_2_2\",\n",
    "    \"문제 2-1 <그래프>\": \"question_2_1_graph\"\n",
    "}\n",
    "\n",
    "a_key_map = {\n",
    "    \"Unnamed: 0\": \"id\",\n",
    "    \"제시문 (가) 해설\": \"explanation_a\",\n",
    "    \"제시문 (나) 해설\": \"explanation_b\",\n",
    "    \"제시문 (다) 해설\": \"explanation_c\",\n",
    "    \"제시문 (라) 해설\": \"explanation_d\",\n",
    "    \"[지문 A] 해설\": \"additional_explanation_a\",\n",
    "    \"<표> 해석\": \"table_explanation\",\n",
    "    \"<그림> 해석\": \"figure_explanation\",\n",
    "    \"문제 1-1 해설\": \"question_explanation_1_1\",\n",
    "    \"문제 1-2 해설\": \"question_explanation_1_2\",\n",
    "    \"문제 2-1 해설\": \"question_explanation_2_1\",\n",
    "    \"문제 2-2 해설\": \"question_explanation_2_2\",\n",
    "    \"문제 출제의도 \": \"question_intent\",\n",
    "    \"문제1-1 검토의견\": \"q_1_1_review\",\n",
    "    \"문제 1-2 검토의견\": \"q_1_2_review\",\n",
    "    \"문제 2-1 검토의견\": \"q_2_1_review\",\n",
    "    \"문제 2-2 검토의견\": \"q_2_2_review\"\n",
    "}"
   ]
  },
  {
   "cell_type": "code",
   "execution_count": 14,
   "metadata": {},
   "outputs": [],
   "source": [
    "import json\n",
    "\n",
    "# json 파일을 불러오는 함수\n",
    "def load_json(file_path):\n",
    "    with open(file_path, 'r', encoding='utf-8') as file:\n",
    "        data = json.load(file)\n",
    "    return data\n",
    "\n",
    "# json 파일을 저장하는 함수\n",
    "def save_json(data, file_path):\n",
    "    with open(file_path, 'w', encoding='utf-8') as file:\n",
    "        json.dump(data, file, ensure_ascii=False, indent=4)\n",
    "\n",
    "# 키 값을 변환하는 함수\n",
    "def transform_keys(data, key_map):\n",
    "    if isinstance(data, dict):\n",
    "        return {key_map.get(key, key): transform_keys(value, key_map) for key, value in data.items()}\n",
    "    elif isinstance(data, list):\n",
    "        return [transform_keys(item, key_map) for item in data]\n",
    "    else:\n",
    "        return data\n",
    "\n",
    "# main 함수\n",
    "def main(input_file, output_file, key_map):\n",
    "    data = load_json(input_file)\n",
    "    transformed_data = transform_keys(data, key_map)\n",
    "    save_json(transformed_data, output_file)\n",
    "\n",
    "# 입력 파일 경로와 출력 파일 경로를 설정합니다.\n",
    "input_file = 'yonsei_data_all_a.json'\n",
    "output_file = 'yonsei_data_all_a.json'\n",
    "\n",
    "# main 함수를 실행합니다.\n",
    "main(input_file, output_file, a_key_map)"
   ]
  },
  {
   "cell_type": "code",
   "execution_count": 2,
   "metadata": {},
   "outputs": [
    {
     "data": {
      "text/plain": [
       "'university_data.json'"
      ]
     },
     "execution_count": 2,
     "metadata": {},
     "output_type": "execute_result"
    }
   ],
   "source": [
    "import pandas as pd\n",
    "\n",
    "# Load the Excel file\n",
    "file_path = 'list_0520.xlsx'\n",
    "df = pd.read_excel(file_path)\n",
    "\n",
    "# Convert the DataFrame to a JSON object and save it to a file\n",
    "json_output_path = 'university_data.json'\n",
    "df.to_json(json_output_path, orient='records', force_ascii=False)\n",
    "\n",
    "json_output_path\n",
    "\n"
   ]
  },
  {
   "cell_type": "code",
   "execution_count": null,
   "metadata": {},
   "outputs": [],
   "source": []
  }
 ],
 "metadata": {
  "kernelspec": {
   "display_name": "Python 3",
   "language": "python",
   "name": "python3"
  },
  "language_info": {
   "codemirror_mode": {
    "name": "ipython",
    "version": 3
   },
   "file_extension": ".py",
   "mimetype": "text/x-python",
   "name": "python",
   "nbconvert_exporter": "python",
   "pygments_lexer": "ipython3",
   "version": "3.11.2"
  }
 },
 "nbformat": 4,
 "nbformat_minor": 2
}
